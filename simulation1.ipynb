{
 "cells": [
  {
   "cell_type": "code",
   "execution_count": 1,
   "metadata": {
    "collapsed": true
   },
   "outputs": [],
   "source": [
    "import pandas as pd\n",
    "import numpy as np\n",
    "import matplotlib.pyplot as plt\n",
    "import scipy as sp\n",
    "%matplotlib inline "
   ]
  },
  {
   "cell_type": "code",
   "execution_count": 2,
   "metadata": {
    "collapsed": true
   },
   "outputs": [],
   "source": [
    "# inputs are: mu, sigma, target, revaluation, initial level\n",
    "# Step1: Get S = R - 0.2 (T-R)\n",
    "# Step2: Get Payout Ratio = (T-CL)/(CL-S)\n",
    "# Step3: Move the level: a random move wiht mu and sigma, model as a normal move first then can fit into various models\n",
    "# Step4: Get size change, use a predetermined two section function to determine, linear or D_size = 50+POR*50\n",
    "# Step5: Get accumulate PnL and draw the graph"
   ]
  },
  {
   "cell_type": "code",
   "execution_count": 3,
   "metadata": {
    "collapsed": false
   },
   "outputs": [],
   "source": [
    "# this defines the stock price movement\n",
    "def prices_gen(init, daily_return, daily_vol, num):\n",
    "    prices = [init]\n",
    "    for i in range(0, num):\n",
    "        prices.append(prices[-1] + (prices[-1] * (daily_return+(daily_vol*np.random.normal(0,1)))))\n",
    "    return prices"
   ]
  },
  {
   "cell_type": "code",
   "execution_count": 4,
   "metadata": {
    "collapsed": false
   },
   "outputs": [],
   "source": [
    "def size_change_linear(price, target, reval, chg_at_reval):\n",
    "    s = reval - 0.2 * (target - reval) # when price = reval, por = 0.2\n",
    "    if s <= price < reval:\n",
    "        return chg_at_reval*(1-(price - reval)/(s - reval))/10000\n",
    "    elif reval <= price < target:\n",
    "        return chg_at_reval*(1-(price - reval)/(target - reval))/10000\n",
    "    elif price >= target:\n",
    "        # once the price reaches target, i'll clear my position\n",
    "        return 0\n",
    "    else: # once the price drops down to s, i'll clear my position as well\n",
    "        return 0"
   ]
  },
  {
   "cell_type": "code",
   "execution_count": 41,
   "metadata": {
    "collapsed": false
   },
   "outputs": [],
   "source": [
    "def size_change_por(price, target, reval, chg_at_reval):\n",
    "    s = reval - 0.2 * (target - reval) # when price = reval, por = 0.2\n",
    "    if s <= price < reval:\n",
    "        return chg_at_reval*(1-(price - reval)/(s - reval))/10000\n",
    "    elif reval <= price <= target:\n",
    "        por = (target-price)/(price-s)\n",
    "        coef = chg_at_reval/5/10000\n",
    "        return por * coef\n",
    "    elif price > target:\n",
    "        # once the price reaches target, i'll clear my position\n",
    "        return 0\n",
    "    else: # once the price drops down to s, i'll clear my position as well\n",
    "        return 0"
   ]
  },
  {
   "cell_type": "code",
   "execution_count": 30,
   "metadata": {
    "collapsed": false
   },
   "outputs": [
    {
     "data": {
      "text/plain": [
       "[<matplotlib.lines.Line2D at 0x20a81491e10>]"
      ]
     },
     "execution_count": 30,
     "metadata": {},
     "output_type": "execute_result"
    },
    {
     "data": {
      "image/png": "[encoded data removed]",
      "text/plain": [
       "<matplotlib.figure.Figure at 0x20a815f9080>"
      ]
     },
     "metadata": {},
     "output_type": "display_data"
    }
   ],
   "source": [
    "# Test the size_change function\n",
    "target = 100\n",
    "reval = 80\n",
    "s = reval - 0.2 * (target - reval)\n",
    "prices = [i/10 for i in range(750,1010,1)]\n",
    "size_ch = [size_change_linear(price, target, reval, 500)*10000 for price in prices ]\n",
    "plt.plot(prices, size_ch)"
   ]
  },
  {
   "cell_type": "code",
   "execution_count": 42,
   "metadata": {
    "collapsed": false
   },
   "outputs": [
    {
     "data": {
      "text/plain": [
       "[<matplotlib.lines.Line2D at 0x20a81fe60b8>]"
      ]
     },
     "execution_count": 42,
     "metadata": {},
     "output_type": "execute_result"
    },
    {
     "data": {
      "image/png": "[encoded data removed]",
      "text/plain": [
       "<matplotlib.figure.Figure at 0x20a834fa630>"
      ]
     },
     "metadata": {},
     "output_type": "display_data"
    }
   ],
   "source": [
    "# Test the size_change function\n",
    "target = 100\n",
    "reval = 80\n",
    "s = reval - 0.2 * (target - reval)\n",
    "prices = [i/10 for i in range(750,1010,1)]\n",
    "size_ch = [size_change_por(price, target, reval, 500)*10000 for price in prices ]\n",
    "plt.plot(prices, size_ch)"
   ]
  },
  {
   "cell_type": "code",
   "execution_count": 6,
   "metadata": {
    "collapsed": true
   },
   "outputs": [],
   "source": [
    "def payout_ratio_strategy(target, reval, init_por, daily_return, daily_vol, chg_at_reval, num, size_func): # these three should be prices, for example if they are stocks\n",
    "    s = reval - 0.2 * (target - reval)\n",
    "    init = (target + init_por * s)/(1+init_por)\n",
    "    # por = (target - init) / (init - s)\n",
    "    prices = prices_gen(init, daily_return, daily_vol, num)\n",
    "    size_changes = [size_func(price, target, reval, chg_at_reval) for price in prices]\n",
    "    plt.plot(prices, size_changes)\n",
    "    pl = [price*size_change for price, size_change in zip(prices, size_changes)]\n",
    "    return pl"
   ]
  },
  {
   "cell_type": "code",
   "execution_count": 16,
   "metadata": {
    "collapsed": false,
    "scrolled": false
   },
   "outputs": [
    {
     "data": {
      "image/png": "[encoded data removed]",
      "text/plain": [
       "<matplotlib.figure.Figure at 0x20a800454e0>"
      ]
     },
     "metadata": {},
     "output_type": "display_data"
    }
   ],
   "source": [
    "# Test the size_change function\n",
    "target = 100\n",
    "reval = 80\n",
    "init_por = 0.2\n",
    "daily_return = 0 / 252\n",
    "daily_vol = 0.30 / (np.sqrt(252))\n",
    "pl = payout_ratio_strategy(target, reval, init_por, daily_return, daily_vol, 500, 1000, size_change_linear)"
   ]
  },
  {
   "cell_type": "code",
   "execution_count": 43,
   "metadata": {
    "collapsed": false
   },
   "outputs": [
    {
     "data": {
      "image/png": "[encoded data removed]",
      "text/plain": [
       "<matplotlib.figure.Figure at 0x20a83b9d1d0>"
      ]
     },
     "metadata": {},
     "output_type": "display_data"
    }
   ],
   "source": [
    "# Test the size_change function\n",
    "target = 100\n",
    "reval = 80\n",
    "init_por = 0.2\n",
    "daily_return = 0 / 252\n",
    "daily_vol = 0.30 / (np.sqrt(252))\n",
    "pl = payout_ratio_strategy(target, reval, init_por, daily_return, daily_vol, 500, 1000, size_change_por)"
   ]
  },
  {
   "cell_type": "code",
   "execution_count": 20,
   "metadata": {
    "collapsed": true
   },
   "outputs": [],
   "source": [
    "def mean_pl(sim_num, target, reval, init_por, daily_return, daily_vol, chg_at_reval, num, size_func):\n",
    "    pls = [payout_ratio_strategy(target, reval, init_por, daily_return, daily_vol, chg_at_reval, num, size_func) for i in range(sim_num)]\n",
    "    moving_sums = []\n",
    "    # for pl in pls:\n",
    "    #    moving_sums.append([sum(pl[:i]) for i in range(len(pl))])\n",
    "    total_pl = 0\n",
    "    for pl in pls:\n",
    "        total_pl += sum(pl)\n",
    "    return total_pl/sim_num"
   ]
  },
  {
   "cell_type": "code",
   "execution_count": 21,
   "metadata": {
    "collapsed": false
   },
   "outputs": [
    {
     "data": {
      "text/plain": [
       "653.26373002662012"
      ]
     },
     "execution_count": 21,
     "metadata": {},
     "output_type": "execute_result"
    },
    {
     "data": {
      "image/png": "[encoded data removed]",
      "text/plain": [
       "<matplotlib.figure.Figure at 0x20a85894ba8>"
      ]
     },
     "metadata": {},
     "output_type": "display_data"
    }
   ],
   "source": [
    "mean_pl(1000, target, reval, init_por, daily_return, daily_vol, 500, 1000, size_change_linear)"
   ]
  },
  {
   "cell_type": "code",
   "execution_count": 44,
   "metadata": {
    "collapsed": false
   },
   "outputs": [
    {
     "data": {
      "text/plain": [
       "310.37456354274218"
      ]
     },
     "execution_count": 44,
     "metadata": {},
     "output_type": "execute_result"
    },
    {
     "data": {
      "image/png": "[encoded data removed]",
      "text/plain": [
       "<matplotlib.figure.Figure at 0x20a83b9fdd8>"
      ]
     },
     "metadata": {},
     "output_type": "display_data"
    }
   ],
   "source": [
    "mean_pl(1000, target, reval, init_por, daily_return, daily_vol, 500, 1000, size_change_por)"
   ]
  },
  {
   "cell_type": "code",
   "execution_count": null,
   "metadata": {
    "collapsed": true
   },
   "outputs": [],
   "source": []
  },
  {
   "cell_type": "code",
   "execution_count": null,
   "metadata": {
    "collapsed": true
   },
   "outputs": [],
   "source": []
  },
  {
   "cell_type": "code",
   "execution_count": null,
   "metadata": {
    "collapsed": false
   },
   "outputs": [],
   "source": [
    "plt.plot(pl)"
   ]
  },
  {
   "cell_type": "code",
   "execution_count": null,
   "metadata": {
    "collapsed": false
   },
   "outputs": [],
   "source": [
    "moving_sum = [sum(pl[:i]) for i in range(len(pl))]"
   ]
  },
  {
   "cell_type": "code",
   "execution_count": null,
   "metadata": {
    "collapsed": false
   },
   "outputs": [],
   "source": [
    "plt.plot(moving_sum)"
   ]
  }
 ],
 "metadata": {
  "kernelspec": {
   "display_name": "Python 3",
   "language": "python",
   "name": "python3"
  },
  "language_info": {
   "codemirror_mode": {
    "name": "ipython",
    "version": 3
   },
   "file_extension": ".py",
   "mimetype": "text/x-python",
   "name": "python",
   "nbconvert_exporter": "python",
   "pygments_lexer": "ipython3",
   "version": "3.6.0"
  }
 },
 "nbformat": 4,
 "nbformat_minor": 2
}
